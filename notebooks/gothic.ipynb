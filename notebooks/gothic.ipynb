{
 "cells": [
  {
   "cell_type": "code",
   "execution_count": 732,
   "metadata": {},
   "outputs": [
    {
     "name": "stderr",
     "output_type": "stream",
     "text": [
      "/scratch/j_luo/decipher/xib/notebooks/gothic_core.py:706: DeprecationWarning: invalid escape sequence \\.\n"
     ]
    },
    {
     "name": "stdout",
     "output_type": "stream",
     "text": [
      "The autoreload extension is already loaded. To reload it, use:\n",
      "  %reload_ext autoreload\n"
     ]
    }
   ],
   "source": [
    "%load_ext autoreload\n",
    "%autoreload 2"
   ]
  },
  {
   "cell_type": "code",
   "execution_count": 733,
   "metadata": {},
   "outputs": [],
   "source": [
    "from __future__ import annotations"
   ]
  },
  {
   "cell_type": "code",
   "execution_count": 741,
   "metadata": {},
   "outputs": [],
   "source": [
    "from gothic_core import process_table, notebook_mode, save_table, get_df_from_doc, get_match_regex, get_pq_doc, LineIterable, register_dataset_seps\n",
    "import re\n",
    "import pandas as pd\n",
    "from pyquery import PyQuery as pq\n",
    "from typing import Optional\n",
    "from itertools import chain"
   ]
  },
  {
   "cell_type": "code",
   "execution_count": 742,
   "metadata": {},
   "outputs": [],
   "source": [
    "notebook_mode(True)\n",
    "pd.set_option('display.max_colwidth', -1)\n",
    "pd.set_option('display.width', 1009)"
   ]
  },
  {
   "cell_type": "code",
   "execution_count": 743,
   "metadata": {},
   "outputs": [],
   "source": [
    "register_dataset_seps('got', ['ÜG', 'ÜE', 'Vw', 'Hw', 'Q', 'I', 'E', 'B', 'R', 'L', 'Son'])\n",
    "register_dataset_seps('edel', ['Vw', 'Hw', 'Q', 'I', 'E', 'L', 'Son', 'GB', 'BM', 'F'])\n",
    "register_dataset_seps('germ', ['RB', 'Vw', 'Hw', 'Q', 'I', 'E', 'W', 'B', 'L', 'Son'])\n",
    "register_dataset_seps('idg', ['RB', 'ÜG', 'Vw', 'Hw', 'E', 'W', 'L', 'Son'])\n",
    "register_dataset_seps('ae', ['ÜG', 'Vw', 'Hw', 'Q', 'I', 'E', 'W', 'R', 'L', 'Son'])\n",
    "register_dataset_seps('ae', ['ÜG', 'Vw', 'Hw', 'Q', 'I', 'E', 'W', 'R', 'L', 'Son'])"
   ]
  },
  {
   "cell_type": "markdown",
   "metadata": {},
   "source": [
    "# Process Gothic dataset."
   ]
  },
  {
   "cell_type": "code",
   "execution_count": 744,
   "metadata": {},
   "outputs": [],
   "source": [
    "# Gothic data is not very structued. Just process one line at a time.\n",
    "doc = pq(filename='../data/koebler/got.html', parser='html')\n",
    "contents = doc.text().split('\\n')[2:]\n",
    "\n",
    "df = get_df_from_doc(contents, 'got')\n",
    "\n",
    "df.to_csv('../data/koebler/got.tsv', sep='\\t', index=None)"
   ]
  },
  {
   "cell_type": "markdown",
   "metadata": {},
   "source": [
    "# The original EDEL data is in a weird encoding, and much more verbose."
   ]
  },
  {
   "cell_type": "code",
   "execution_count": 745,
   "metadata": {},
   "outputs": [],
   "source": [
    "doc = get_pq_doc('../data/koebler/edel.htm', 'cp1252')\n",
    "\n",
    "df = get_df_from_doc(LineIterable(doc), 'edel')\n",
    "\n",
    "df.to_csv('../data/koebler/edel.tsv', sep='\\t', index=None)"
   ]
  },
  {
   "cell_type": "markdown",
   "metadata": {},
   "source": [
    "# germ dataset is similar to EDEL."
   ]
  },
  {
   "cell_type": "code",
   "execution_count": 746,
   "metadata": {},
   "outputs": [],
   "source": [
    "doc = get_pq_doc('../data/koebler/germ.html', 'cp1252')\n",
    "\n",
    "df = get_df_from_doc(LineIterable(doc), 'germ')\n",
    "\n",
    "df.to_csv('../data/koebler/germ.tsv', sep='\\t', index=None)"
   ]
  },
  {
   "cell_type": "markdown",
   "metadata": {},
   "source": [
    "# idg dataset is similar too. But it uses two classes: MsoPlainText and MsoNormal."
   ]
  },
  {
   "cell_type": "code",
   "execution_count": 747,
   "metadata": {},
   "outputs": [],
   "source": [
    "doc = get_pq_doc('../data/koebler/idg.html', 'cp1252')\n",
    "\n",
    "df = get_df_from_doc(LineIterable(doc), 'idg')\n",
    "\n",
    "df.to_csv('../data/koebler/idg.tsv', sep='\\t', index=None)"
   ]
  },
  {
   "cell_type": "markdown",
   "metadata": {},
   "source": [
    "# ae is similar."
   ]
  },
  {
   "cell_type": "code",
   "execution_count": 748,
   "metadata": {},
   "outputs": [],
   "source": [
    "doc = get_pq_doc('../data/koebler/ae.html', 'cp1252')\n",
    "\n",
    "df = get_df_from_doc(LineIterable(doc), 'ae')\n",
    "\n",
    "df.to_csv('../data/koebler/ae.tsv', sep='\\t', index=None)"
   ]
  },
  {
   "cell_type": "markdown",
   "metadata": {},
   "source": [
    "# Old code."
   ]
  },
  {
   "cell_type": "code",
   "execution_count": 16,
   "metadata": {},
   "outputs": [],
   "source": [
    "save_table('../data/wikiling/edel', '../data/wikiling/edel.tsv')"
   ]
  },
  {
   "cell_type": "code",
   "execution_count": 7,
   "metadata": {},
   "outputs": [],
   "source": [
    "table = process_table('../data/wikiling/edel.tsv', 'vorwort.got')"
   ]
  },
  {
   "cell_type": "code",
   "execution_count": null,
   "metadata": {},
   "outputs": [],
   "source": [
    "pgmc_df = get_proto_dict('../data/entirePGMC_daughters.csv')\n",
    "x = EtymologicalDictionary.from_dataframe(pgmc_df, 'got', 'de')"
   ]
  },
  {
   "cell_type": "code",
   "execution_count": null,
   "metadata": {},
   "outputs": [],
   "source": []
  },
  {
   "cell_type": "code",
   "execution_count": null,
   "metadata": {},
   "outputs": [],
   "source": []
  },
  {
   "cell_type": "code",
   "execution_count": null,
   "metadata": {},
   "outputs": [],
   "source": []
  },
  {
   "cell_type": "code",
   "execution_count": null,
   "metadata": {},
   "outputs": [],
   "source": []
  },
  {
   "cell_type": "code",
   "execution_count": null,
   "metadata": {},
   "outputs": [],
   "source": []
  },
  {
   "cell_type": "code",
   "execution_count": null,
   "metadata": {},
   "outputs": [],
   "source": []
  },
  {
   "cell_type": "code",
   "execution_count": null,
   "metadata": {},
   "outputs": [],
   "source": []
  },
  {
   "cell_type": "markdown",
   "metadata": {},
   "source": [
    "# Classes for matchers."
   ]
  },
  {
   "cell_type": "code",
   "execution_count": 641,
   "metadata": {},
   "outputs": [],
   "source": [
    "class _BaseMatcher:\n",
    "    \"\"\"Base class for matchers that matches something in a processed string, where the vorwort notations have been replaced with special character sequences, i.e., #@!<stuff>!@#.\"\"\"\n",
    "    \n",
    "    _pattern = None\n",
    "    _remove_notes = True\n",
    "    \n",
    "    def __init__(self, raw_string: str):\n",
    "        self._raw_string = raw_string\n",
    "    \n",
    "    def __repr__(self):\n",
    "        return self._raw_string\n",
    "    \n",
    "    def __iter__(self):\n",
    "        cls = type(self)\n",
    "        p = re.compile(re.escape('#@!') + r'.+?' + re.escape('!@#'))\n",
    "        s = self._raw_string\n",
    "        if cls._remove_notes:\n",
    "            s = re.sub(p, '', self._raw_string)\n",
    "        for match in cls._pattern.finditer(s):\n",
    "            yield match.group()\n",
    "    \n",
    "class AbbrMatcher(_BaseMatcher):\n",
    "    \n",
    "    _pattern = re.compile(r'\\w+\\.')\n",
    "    \n",
    "    \n",
    "class NoteMatcher(_BaseMatcher):\n",
    "    \n",
    "    _pattern = re.compile(re.escape('#@!') + r'.+?' + re.escape('!@#'))\n",
    "    _remove_notes = False\n",
    "\n",
    "class PhraseMatcher(_BaseMatcher):\n",
    "    \n",
    "    _pattern = re.compile(r'\\w[\\w\\s]*')\n",
    "\n",
    "class CapitalizationMatcher(_BaseMatcher):\n",
    "    \n",
    "    _pattern = re.compile(r'(?<=\\W)[A-Z][\\w\\s]*')\n",
    "\n",
    "class GothicMatcher(NoteMatcher):\n",
    "    \n",
    "    _pattern = re.compile(re.escape('#@!') + r'gotisch' + re.escape('!@#'))"
   ]
  }
 ],
 "metadata": {
  "kernelspec": {
   "display_name": "Python 3",
   "language": "python",
   "name": "python3"
  },
  "language_info": {
   "codemirror_mode": {
    "name": "ipython",
    "version": 3
   },
   "file_extension": ".py",
   "mimetype": "text/x-python",
   "name": "python",
   "nbconvert_exporter": "python",
   "pygments_lexer": "ipython3",
   "version": "3.7.3"
  }
 },
 "nbformat": 4,
 "nbformat_minor": 4
}
