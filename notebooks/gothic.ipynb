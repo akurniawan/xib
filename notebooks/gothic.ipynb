{
 "cells": [
  {
   "cell_type": "code",
   "execution_count": 1,
   "metadata": {},
   "outputs": [],
   "source": [
    "%load_ext autoreload\n",
    "%autoreload 2"
   ]
  },
  {
   "cell_type": "code",
   "execution_count": 2,
   "metadata": {},
   "outputs": [],
   "source": [
    "from __future__ import annotations"
   ]
  },
  {
   "cell_type": "code",
   "execution_count": 3,
   "metadata": {},
   "outputs": [
    {
     "name": "stderr",
     "output_type": "stream",
     "text": [
      "/home/jl/Documents/code/xib/dev_misc/dev_misc/utils.py:37: DeprecationWarning: Class/function Trainer deprecated.\n",
      "  warnings.warn(message, warning_cls)\n"
     ]
    }
   ],
   "source": [
    "from gothic_core import process_table, notebook_mode, save_table, get_df_from_doc, get_match_regex, get_pq_doc, LineIterable\n",
    "import re\n",
    "import pandas as pd\n",
    "from pyquery import PyQuery as pq\n",
    "from typing import Optional\n",
    "from itertools import chain"
   ]
  },
  {
   "cell_type": "code",
   "execution_count": 4,
   "metadata": {},
   "outputs": [],
   "source": [
    "notebook_mode(True)\n",
    "pd.set_option('display.max_colwidth', -1)\n",
    "pd.set_option('display.width', 1009)"
   ]
  },
  {
   "cell_type": "code",
   "execution_count": 5,
   "metadata": {},
   "outputs": [],
   "source": [
    "# Gothic data is not very structued. Just process one line at a time.\n",
    "doc = pq(filename='../data/koebler/got.html', parser='html')\n",
    "contents = doc.text().split('\\n')[2:]\n",
    "\n",
    "df = get_df_from_doc(contents, 'got')\n",
    "\n",
    "df.to_csv('../data/koebler/got.tsv', sep='\\t', index=None)"
   ]
  },
  {
   "cell_type": "markdown",
   "metadata": {},
   "source": [
    "# The original EDEL data is in a weird encoding, and much more verbose."
   ]
  },
  {
   "cell_type": "code",
   "execution_count": 6,
   "metadata": {},
   "outputs": [
    {
     "ename": "NameError",
     "evalue": "name 'chain' is not defined",
     "output_type": "error",
     "traceback": [
      "\u001b[0;31m---------------------------------------------------------------------------\u001b[0m",
      "\u001b[0;31mNameError\u001b[0m                                 Traceback (most recent call last)",
      "\u001b[0;32m<ipython-input-6-94466392ce46>\u001b[0m in \u001b[0;36m<module>\u001b[0;34m\u001b[0m\n\u001b[1;32m      1\u001b[0m \u001b[0mdoc\u001b[0m \u001b[0;34m=\u001b[0m \u001b[0mget_pq_doc\u001b[0m\u001b[0;34m(\u001b[0m\u001b[0;34m'../data/koebler/edel.htm'\u001b[0m\u001b[0;34m,\u001b[0m \u001b[0;34m'cp1252'\u001b[0m\u001b[0;34m)\u001b[0m\u001b[0;34m\u001b[0m\u001b[0;34m\u001b[0m\u001b[0m\n\u001b[1;32m      2\u001b[0m \u001b[0;34m\u001b[0m\u001b[0m\n\u001b[0;32m----> 3\u001b[0;31m \u001b[0mdf\u001b[0m \u001b[0;34m=\u001b[0m \u001b[0mget_df_from_doc\u001b[0m\u001b[0;34m(\u001b[0m\u001b[0mLineIterable\u001b[0m\u001b[0;34m(\u001b[0m\u001b[0mdoc\u001b[0m\u001b[0;34m)\u001b[0m\u001b[0;34m,\u001b[0m \u001b[0;34m'edel'\u001b[0m\u001b[0;34m)\u001b[0m\u001b[0;34m\u001b[0m\u001b[0;34m\u001b[0m\u001b[0m\n\u001b[0m\u001b[1;32m      4\u001b[0m \u001b[0;34m\u001b[0m\u001b[0m\n\u001b[1;32m      5\u001b[0m \u001b[0mdf\u001b[0m\u001b[0;34m.\u001b[0m\u001b[0mto_csv\u001b[0m\u001b[0;34m(\u001b[0m\u001b[0;34m'../data/koebler/edel.tsv'\u001b[0m\u001b[0;34m,\u001b[0m \u001b[0msep\u001b[0m\u001b[0;34m=\u001b[0m\u001b[0;34m'\\t'\u001b[0m\u001b[0;34m,\u001b[0m \u001b[0mindex\u001b[0m\u001b[0;34m=\u001b[0m\u001b[0;32mNone\u001b[0m\u001b[0;34m)\u001b[0m\u001b[0;34m\u001b[0m\u001b[0;34m\u001b[0m\u001b[0m\n",
      "\u001b[0;32m~/Documents/code/xib/notebooks/gothic_core.py\u001b[0m in \u001b[0;36mget_df_from_doc\u001b[0;34m(doc, dataset)\u001b[0m\n\u001b[1;32m    739\u001b[0m     \u001b[0mregex\u001b[0m \u001b[0;34m=\u001b[0m \u001b[0mget_match_regex\u001b[0m\u001b[0;34m(\u001b[0m\u001b[0mdataset\u001b[0m\u001b[0;34m)\u001b[0m\u001b[0;34m\u001b[0m\u001b[0;34m\u001b[0m\u001b[0m\n\u001b[1;32m    740\u001b[0m     \u001b[0mmatches\u001b[0m \u001b[0;34m=\u001b[0m \u001b[0mlist\u001b[0m\u001b[0;34m(\u001b[0m\u001b[0;34m)\u001b[0m\u001b[0;34m\u001b[0m\u001b[0;34m\u001b[0m\u001b[0m\n\u001b[0;32m--> 741\u001b[0;31m     \u001b[0;32mfor\u001b[0m \u001b[0mline\u001b[0m \u001b[0;32min\u001b[0m \u001b[0mdoc\u001b[0m\u001b[0;34m:\u001b[0m\u001b[0;34m\u001b[0m\u001b[0;34m\u001b[0m\u001b[0m\n\u001b[0m\u001b[1;32m    742\u001b[0m         \u001b[0mmatches\u001b[0m\u001b[0;34m.\u001b[0m\u001b[0mappend\u001b[0m\u001b[0;34m(\u001b[0m\u001b[0mregex\u001b[0m\u001b[0;34m.\u001b[0m\u001b[0mmatch\u001b[0m\u001b[0;34m(\u001b[0m\u001b[0mline\u001b[0m\u001b[0;34m.\u001b[0m\u001b[0mstrip\u001b[0m\u001b[0;34m(\u001b[0m\u001b[0;34m)\u001b[0m\u001b[0;34m)\u001b[0m\u001b[0;34m)\u001b[0m\u001b[0;34m\u001b[0m\u001b[0;34m\u001b[0m\u001b[0m\n\u001b[1;32m    743\u001b[0m \u001b[0;34m\u001b[0m\u001b[0m\n",
      "\u001b[0;32m~/Documents/code/xib/notebooks/gothic_core.py\u001b[0m in \u001b[0;36m__iter__\u001b[0;34m(self)\u001b[0m\n\u001b[1;32m    773\u001b[0m \u001b[0;34m\u001b[0m\u001b[0m\n\u001b[1;32m    774\u001b[0m     \u001b[0;32mdef\u001b[0m \u001b[0m__iter__\u001b[0m\u001b[0;34m(\u001b[0m\u001b[0mself\u001b[0m\u001b[0;34m)\u001b[0m\u001b[0;34m:\u001b[0m\u001b[0;34m\u001b[0m\u001b[0;34m\u001b[0m\u001b[0m\n\u001b[0;32m--> 775\u001b[0;31m         \u001b[0;32mfor\u001b[0m \u001b[0melem\u001b[0m \u001b[0;32min\u001b[0m \u001b[0mchain\u001b[0m\u001b[0;34m(\u001b[0m\u001b[0mdoc\u001b[0m\u001b[0;34m(\u001b[0m\u001b[0;34m'p.MsoNormal'\u001b[0m\u001b[0;34m)\u001b[0m\u001b[0;34m,\u001b[0m \u001b[0mdoc\u001b[0m\u001b[0;34m(\u001b[0m\u001b[0;34m'p.MsoPlainText'\u001b[0m\u001b[0;34m)\u001b[0m\u001b[0;34m)\u001b[0m\u001b[0;34m:\u001b[0m\u001b[0;34m\u001b[0m\u001b[0;34m\u001b[0m\u001b[0m\n\u001b[0m\u001b[1;32m    776\u001b[0m             \u001b[0mentry\u001b[0m \u001b[0;34m=\u001b[0m \u001b[0mpq\u001b[0m\u001b[0;34m(\u001b[0m\u001b[0melem\u001b[0m\u001b[0;34m)\u001b[0m\u001b[0;34m\u001b[0m\u001b[0;34m\u001b[0m\u001b[0m\n\u001b[1;32m    777\u001b[0m             \u001b[0mtext\u001b[0m \u001b[0;34m=\u001b[0m \u001b[0mentry\u001b[0m\u001b[0;34m.\u001b[0m\u001b[0mtext\u001b[0m\u001b[0;34m(\u001b[0m\u001b[0;34m)\u001b[0m\u001b[0;34m\u001b[0m\u001b[0;34m\u001b[0m\u001b[0m\n",
      "\u001b[0;31mNameError\u001b[0m: name 'chain' is not defined"
     ]
    }
   ],
   "source": [
    "doc = get_pq_doc('../data/koebler/edel.htm', 'cp1252')\n",
    "\n",
    "df = get_df_from_doc(LineIterable(doc), 'edel')\n",
    "\n",
    "df.to_csv('../data/koebler/edel.tsv', sep='\\t', index=None)"
   ]
  },
  {
   "cell_type": "markdown",
   "metadata": {},
   "source": [
    "# germ dataset is similar to EDEL."
   ]
  },
  {
   "cell_type": "code",
   "execution_count": null,
   "metadata": {},
   "outputs": [],
   "source": [
    "doc = get_pq_doc('../data/koebler/germ.html', 'cp1252')\n",
    "\n",
    "df = get_df_from_doc(LineIterable(doc), 'germ')\n",
    "\n",
    "df.to_csv('../data/koebler/germ.tsv', sep='\\t', index=None)"
   ]
  },
  {
   "cell_type": "markdown",
   "metadata": {},
   "source": [
    "# idg dataset is similar too. But it uses two classes: MsoPlainText and MsoNormal."
   ]
  },
  {
   "cell_type": "code",
   "execution_count": 21,
   "metadata": {},
   "outputs": [],
   "source": [
    "doc = get_pq_doc('../data/koebler/idg.html', 'cp1252')\n",
    "\n",
    "df = get_df_from_doc(LineIterable(doc), 'idg')\n",
    "\n",
    "df.to_csv('../data/koebler/idg.tsv', sep='\\t', index=None)"
   ]
  },
  {
   "cell_type": "markdown",
   "metadata": {},
   "source": [
    "# ae is similar."
   ]
  },
  {
   "cell_type": "code",
   "execution_count": 24,
   "metadata": {},
   "outputs": [],
   "source": [
    "doc = get_pq_doc('../data/koebler/ae.html', 'cp1252')\n",
    "\n",
    "df = get_df_from_doc(LineIterable(doc), 'ae')\n",
    "\n",
    "df.to_csv('../data/koebler/ae.tsv', sep='\\t', index=None)"
   ]
  },
  {
   "cell_type": "markdown",
   "metadata": {},
   "source": [
    "# Old code."
   ]
  },
  {
   "cell_type": "code",
   "execution_count": 16,
   "metadata": {},
   "outputs": [],
   "source": [
    "save_table('../data/wikiling/edel', '../data/wikiling/edel.tsv')"
   ]
  },
  {
   "cell_type": "code",
   "execution_count": 7,
   "metadata": {},
   "outputs": [],
   "source": [
    "table = process_table('../data/wikiling/edel.tsv', 'vorwort.got')"
   ]
  },
  {
   "cell_type": "code",
   "execution_count": null,
   "metadata": {},
   "outputs": [],
   "source": [
    "pgmc_df = get_proto_dict('../data/entirePGMC_daughters.csv')\n",
    "x = EtymologicalDictionary.from_dataframe(pgmc_df, 'got', 'de')"
   ]
  },
  {
   "cell_type": "code",
   "execution_count": null,
   "metadata": {},
   "outputs": [],
   "source": []
  },
  {
   "cell_type": "code",
   "execution_count": null,
   "metadata": {},
   "outputs": [],
   "source": []
  },
  {
   "cell_type": "code",
   "execution_count": null,
   "metadata": {},
   "outputs": [],
   "source": []
  },
  {
   "cell_type": "code",
   "execution_count": null,
   "metadata": {},
   "outputs": [],
   "source": []
  },
  {
   "cell_type": "code",
   "execution_count": null,
   "metadata": {},
   "outputs": [],
   "source": []
  },
  {
   "cell_type": "code",
   "execution_count": null,
   "metadata": {},
   "outputs": [],
   "source": []
  },
  {
   "cell_type": "code",
   "execution_count": null,
   "metadata": {},
   "outputs": [],
   "source": []
  },
  {
   "cell_type": "markdown",
   "metadata": {},
   "source": [
    "# Classes for matchers."
   ]
  },
  {
   "cell_type": "code",
   "execution_count": 641,
   "metadata": {},
   "outputs": [],
   "source": [
    "class _BaseMatcher:\n",
    "    \"\"\"Base class for matchers that matches something in a processed string, where the vorwort notations have been replaced with special character sequences, i.e., #@!<stuff>!@#.\"\"\"\n",
    "    \n",
    "    _pattern = None\n",
    "    _remove_notes = True\n",
    "    \n",
    "    def __init__(self, raw_string: str):\n",
    "        self._raw_string = raw_string\n",
    "    \n",
    "    def __repr__(self):\n",
    "        return self._raw_string\n",
    "    \n",
    "    def __iter__(self):\n",
    "        cls = type(self)\n",
    "        p = re.compile(re.escape('#@!') + r'.+?' + re.escape('!@#'))\n",
    "        s = self._raw_string\n",
    "        if cls._remove_notes:\n",
    "            s = re.sub(p, '', self._raw_string)\n",
    "        for match in cls._pattern.finditer(s):\n",
    "            yield match.group()\n",
    "    \n",
    "class AbbrMatcher(_BaseMatcher):\n",
    "    \n",
    "    _pattern = re.compile(r'\\w+\\.')\n",
    "    \n",
    "    \n",
    "class NoteMatcher(_BaseMatcher):\n",
    "    \n",
    "    _pattern = re.compile(re.escape('#@!') + r'.+?' + re.escape('!@#'))\n",
    "    _remove_notes = False\n",
    "\n",
    "class PhraseMatcher(_BaseMatcher):\n",
    "    \n",
    "    _pattern = re.compile(r'\\w[\\w\\s]*')\n",
    "\n",
    "class CapitalizationMatcher(_BaseMatcher):\n",
    "    \n",
    "    _pattern = re.compile(r'(?<=\\W)[A-Z][\\w\\s]*')\n",
    "\n",
    "class GothicMatcher(NoteMatcher):\n",
    "    \n",
    "    _pattern = re.compile(re.escape('#@!') + r'gotisch' + re.escape('!@#'))"
   ]
  }
 ],
 "metadata": {
  "kernelspec": {
   "display_name": "Python 3",
   "language": "python",
   "name": "python3"
  },
  "language_info": {
   "codemirror_mode": {
    "name": "ipython",
    "version": 3
   },
   "file_extension": ".py",
   "mimetype": "text/x-python",
   "name": "python",
   "nbconvert_exporter": "python",
   "pygments_lexer": "ipython3",
   "version": "3.7.3"
  }
 },
 "nbformat": 4,
 "nbformat_minor": 4
}
