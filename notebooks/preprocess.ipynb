{
 "cells": [
  {
   "cell_type": "code",
   "execution_count": 1,
   "metadata": {},
   "outputs": [],
   "source": [
    "import xib.cfg as cfg"
   ]
  },
  {
   "cell_type": "code",
   "execution_count": 2,
   "metadata": {},
   "outputs": [],
   "source": [
    "import pdb"
   ]
  },
  {
   "cell_type": "code",
   "execution_count": 3,
   "metadata": {},
   "outputs": [
    {
     "data": {
      "text/plain": [
       "<Ptype.CONSONANT: Index(g_idx=0, c_idx=0, f_idx=0)>"
      ]
     },
     "execution_count": 3,
     "metadata": {},
     "output_type": "execute_result"
    }
   ],
   "source": [
    "cfg.Index.get_feature(0)"
   ]
  },
  {
   "cell_type": "code",
   "execution_count": 4,
   "metadata": {},
   "outputs": [],
   "source": [
    "from pathlib import Path"
   ]
  },
  {
   "cell_type": "code",
   "execution_count": 5,
   "metadata": {},
   "outputs": [],
   "source": [
    "path = Path('/scratch/j_luo/data/phones/phones_merged.tsv')"
   ]
  },
  {
   "cell_type": "code",
   "execution_count": 6,
   "metadata": {},
   "outputs": [],
   "source": [
    "import pandas as pd"
   ]
  },
  {
   "cell_type": "code",
   "execution_count": 8,
   "metadata": {},
   "outputs": [],
   "source": [
    "import ast"
   ]
  },
  {
   "cell_type": "code",
   "execution_count": 9,
   "metadata": {},
   "outputs": [],
   "source": [
    "import inflection"
   ]
  },
  {
   "cell_type": "code",
   "execution_count": 13,
   "metadata": {},
   "outputs": [],
   "source": [
    "converters = {cat.name.lower(): ast.literal_eval  for cat in cfg.Category}"
   ]
  },
  {
   "cell_type": "code",
   "execution_count": 14,
   "metadata": {},
   "outputs": [],
   "source": [
    "df = pd.read_csv(path, sep='\\t', converters=converters)"
   ]
  },
  {
   "cell_type": "code",
   "execution_count": 15,
   "metadata": {},
   "outputs": [
    {
     "data": {
      "text/html": [
       "<div>\n",
       "<style scoped>\n",
       "    .dataframe tbody tr th:only-of-type {\n",
       "        vertical-align: middle;\n",
       "    }\n",
       "\n",
       "    .dataframe tbody tr th {\n",
       "        vertical-align: top;\n",
       "    }\n",
       "\n",
       "    .dataframe thead th {\n",
       "        text-align: right;\n",
       "    }\n",
       "</style>\n",
       "<table border=\"1\" class=\"dataframe\">\n",
       "  <thead>\n",
       "    <tr style=\"text-align: right;\">\n",
       "      <th></th>\n",
       "      <th>segment</th>\n",
       "      <th>lang</th>\n",
       "      <th>ipa</th>\n",
       "      <th>merged_ipa</th>\n",
       "      <th>ptype</th>\n",
       "      <th>c_voicing</th>\n",
       "      <th>c_place</th>\n",
       "      <th>c_manner</th>\n",
       "      <th>v_height</th>\n",
       "      <th>v_backness</th>\n",
       "      <th>v_roundness</th>\n",
       "      <th>diacritics</th>\n",
       "      <th>s_stress</th>\n",
       "      <th>s_length</th>\n",
       "      <th>s_break</th>\n",
       "      <th>t_level</th>\n",
       "      <th>t_contour</th>\n",
       "      <th>t_global</th>\n",
       "    </tr>\n",
       "  </thead>\n",
       "  <tbody>\n",
       "    <tr>\n",
       "      <th>0</th>\n",
       "      <td>nɔːme</td>\n",
       "      <td>zza</td>\n",
       "      <td>['n', 'ɔ', 'ː', 'm', 'e']</td>\n",
       "      <td>['n', 'ɔː', 'm', 'e']</td>\n",
       "      <td>[consonant, vowel, consonant, vowel]</td>\n",
       "      <td>[voiced, none, voiced, none]</td>\n",
       "      <td>[alveolar, none, bilabial, none]</td>\n",
       "      <td>[nasal, none, nasal, none]</td>\n",
       "      <td>[none, open-mid, none, close-mid]</td>\n",
       "      <td>[none, back, none, front]</td>\n",
       "      <td>[none, rounded, none, unrounded]</td>\n",
       "      <td>[none, none, none, none]</td>\n",
       "      <td>[none, none, none, none]</td>\n",
       "      <td>[none, long, none, none]</td>\n",
       "      <td>[none, none, none, none]</td>\n",
       "      <td>[none, none, none, none]</td>\n",
       "      <td>[none, none, none, none]</td>\n",
       "      <td>[none, none, none, none]</td>\n",
       "    </tr>\n",
       "    <tr>\n",
       "      <th>1</th>\n",
       "      <td>ɾaŋɡ</td>\n",
       "      <td>zza</td>\n",
       "      <td>['ɾ', 'a', 'ŋ', 'ɡ']</td>\n",
       "      <td>['ɾ', 'a', 'ŋ', 'ɡ']</td>\n",
       "      <td>[consonant, vowel, consonant, consonant]</td>\n",
       "      <td>[voiced, none, voiced, voiced]</td>\n",
       "      <td>[alveolar, none, velar, velar]</td>\n",
       "      <td>[flap, none, nasal, plosive]</td>\n",
       "      <td>[none, open, none, none]</td>\n",
       "      <td>[none, front, none, none]</td>\n",
       "      <td>[none, unrounded, none, none]</td>\n",
       "      <td>[none, none, none, none]</td>\n",
       "      <td>[none, none, none, none]</td>\n",
       "      <td>[none, none, none, none]</td>\n",
       "      <td>[none, none, none, none]</td>\n",
       "      <td>[none, none, none, none]</td>\n",
       "      <td>[none, none, none, none]</td>\n",
       "      <td>[none, none, none, none]</td>\n",
       "    </tr>\n",
       "    <tr>\n",
       "      <th>2</th>\n",
       "      <td>pɔː</td>\n",
       "      <td>zza</td>\n",
       "      <td>['p', 'ɔ', 'ː']</td>\n",
       "      <td>['p', 'ɔː']</td>\n",
       "      <td>[consonant, vowel]</td>\n",
       "      <td>[voiceless, none]</td>\n",
       "      <td>[bilabial, none]</td>\n",
       "      <td>[plosive, none]</td>\n",
       "      <td>[none, open-mid]</td>\n",
       "      <td>[none, back]</td>\n",
       "      <td>[none, rounded]</td>\n",
       "      <td>[none, none]</td>\n",
       "      <td>[none, none]</td>\n",
       "      <td>[none, long]</td>\n",
       "      <td>[none, none]</td>\n",
       "      <td>[none, none]</td>\n",
       "      <td>[none, none]</td>\n",
       "      <td>[none, none]</td>\n",
       "    </tr>\n",
       "    <tr>\n",
       "      <th>3</th>\n",
       "      <td>bari</td>\n",
       "      <td>zza</td>\n",
       "      <td>['b', 'a', 'r', 'i']</td>\n",
       "      <td>['b', 'a', 'r', 'i']</td>\n",
       "      <td>[consonant, vowel, consonant, vowel]</td>\n",
       "      <td>[voiced, none, voiced, none]</td>\n",
       "      <td>[bilabial, none, alveolar, none]</td>\n",
       "      <td>[plosive, none, trill, none]</td>\n",
       "      <td>[none, open, none, close]</td>\n",
       "      <td>[none, front, none, front]</td>\n",
       "      <td>[none, unrounded, none, unrounded]</td>\n",
       "      <td>[none, none, none, none]</td>\n",
       "      <td>[none, none, none, none]</td>\n",
       "      <td>[none, none, none, none]</td>\n",
       "      <td>[none, none, none, none]</td>\n",
       "      <td>[none, none, none, none]</td>\n",
       "      <td>[none, none, none, none]</td>\n",
       "      <td>[none, none, none, none]</td>\n",
       "    </tr>\n",
       "    <tr>\n",
       "      <th>4</th>\n",
       "      <td>herb</td>\n",
       "      <td>zza</td>\n",
       "      <td>['h', 'e', 'r', 'b']</td>\n",
       "      <td>['h', 'e', 'r', 'b']</td>\n",
       "      <td>[consonant, vowel, consonant, consonant]</td>\n",
       "      <td>[voiceless, none, voiced, voiced]</td>\n",
       "      <td>[glottal, none, alveolar, bilabial]</td>\n",
       "      <td>[non-sibilant-fricative, none, trill, plosive]</td>\n",
       "      <td>[none, close-mid, none, none]</td>\n",
       "      <td>[none, front, none, none]</td>\n",
       "      <td>[none, unrounded, none, none]</td>\n",
       "      <td>[none, none, none, none]</td>\n",
       "      <td>[none, none, none, none]</td>\n",
       "      <td>[none, none, none, none]</td>\n",
       "      <td>[none, none, none, none]</td>\n",
       "      <td>[none, none, none, none]</td>\n",
       "      <td>[none, none, none, none]</td>\n",
       "      <td>[none, none, none, none]</td>\n",
       "    </tr>\n",
       "  </tbody>\n",
       "</table>\n",
       "</div>"
      ],
      "text/plain": [
       "  segment lang                        ipa             merged_ipa  \\\n",
       "0   nɔːme  zza  ['n', 'ɔ', 'ː', 'm', 'e']  ['n', 'ɔː', 'm', 'e']   \n",
       "1    ɾaŋɡ  zza       ['ɾ', 'a', 'ŋ', 'ɡ']   ['ɾ', 'a', 'ŋ', 'ɡ']   \n",
       "2     pɔː  zza            ['p', 'ɔ', 'ː']            ['p', 'ɔː']   \n",
       "3    bari  zza       ['b', 'a', 'r', 'i']   ['b', 'a', 'r', 'i']   \n",
       "4    herb  zza       ['h', 'e', 'r', 'b']   ['h', 'e', 'r', 'b']   \n",
       "\n",
       "                                      ptype  \\\n",
       "0      [consonant, vowel, consonant, vowel]   \n",
       "1  [consonant, vowel, consonant, consonant]   \n",
       "2                        [consonant, vowel]   \n",
       "3      [consonant, vowel, consonant, vowel]   \n",
       "4  [consonant, vowel, consonant, consonant]   \n",
       "\n",
       "                           c_voicing                              c_place  \\\n",
       "0       [voiced, none, voiced, none]     [alveolar, none, bilabial, none]   \n",
       "1     [voiced, none, voiced, voiced]       [alveolar, none, velar, velar]   \n",
       "2                  [voiceless, none]                     [bilabial, none]   \n",
       "3       [voiced, none, voiced, none]     [bilabial, none, alveolar, none]   \n",
       "4  [voiceless, none, voiced, voiced]  [glottal, none, alveolar, bilabial]   \n",
       "\n",
       "                                         c_manner  \\\n",
       "0                      [nasal, none, nasal, none]   \n",
       "1                    [flap, none, nasal, plosive]   \n",
       "2                                 [plosive, none]   \n",
       "3                    [plosive, none, trill, none]   \n",
       "4  [non-sibilant-fricative, none, trill, plosive]   \n",
       "\n",
       "                            v_height                  v_backness  \\\n",
       "0  [none, open-mid, none, close-mid]   [none, back, none, front]   \n",
       "1           [none, open, none, none]   [none, front, none, none]   \n",
       "2                   [none, open-mid]                [none, back]   \n",
       "3          [none, open, none, close]  [none, front, none, front]   \n",
       "4      [none, close-mid, none, none]   [none, front, none, none]   \n",
       "\n",
       "                          v_roundness                diacritics  \\\n",
       "0    [none, rounded, none, unrounded]  [none, none, none, none]   \n",
       "1       [none, unrounded, none, none]  [none, none, none, none]   \n",
       "2                     [none, rounded]              [none, none]   \n",
       "3  [none, unrounded, none, unrounded]  [none, none, none, none]   \n",
       "4       [none, unrounded, none, none]  [none, none, none, none]   \n",
       "\n",
       "                   s_stress                  s_length  \\\n",
       "0  [none, none, none, none]  [none, long, none, none]   \n",
       "1  [none, none, none, none]  [none, none, none, none]   \n",
       "2              [none, none]              [none, long]   \n",
       "3  [none, none, none, none]  [none, none, none, none]   \n",
       "4  [none, none, none, none]  [none, none, none, none]   \n",
       "\n",
       "                    s_break                   t_level  \\\n",
       "0  [none, none, none, none]  [none, none, none, none]   \n",
       "1  [none, none, none, none]  [none, none, none, none]   \n",
       "2              [none, none]              [none, none]   \n",
       "3  [none, none, none, none]  [none, none, none, none]   \n",
       "4  [none, none, none, none]  [none, none, none, none]   \n",
       "\n",
       "                  t_contour                  t_global  \n",
       "0  [none, none, none, none]  [none, none, none, none]  \n",
       "1  [none, none, none, none]  [none, none, none, none]  \n",
       "2              [none, none]              [none, none]  \n",
       "3  [none, none, none, none]  [none, none, none, none]  \n",
       "4  [none, none, none, none]  [none, none, none, none]  "
      ]
     },
     "execution_count": 15,
     "metadata": {},
     "output_type": "execute_result"
    }
   ],
   "source": [
    "df.head()"
   ]
  },
  {
   "cell_type": "code",
   "execution_count": 21,
   "metadata": {},
   "outputs": [],
   "source": [
    "from tqdm import tqdm\n",
    "tqdm.pandas()"
   ]
  },
  {
   "cell_type": "code",
   "execution_count": 41,
   "metadata": {},
   "outputs": [
    {
     "name": "stderr",
     "output_type": "stream",
     "text": [
      "100%|██████████| 453777/453777 [00:03<00:00, 138705.70it/s]\n",
      "100%|██████████| 453777/453777 [00:05<00:00, 88404.97it/s] \n",
      "100%|██████████| 453777/453777 [00:03<00:00, 138508.28it/s]\n",
      "100%|██████████| 453777/453777 [00:03<00:00, 135472.86it/s]\n",
      "100%|██████████| 453777/453777 [00:03<00:00, 138645.25it/s]\n",
      "100%|██████████| 453777/453777 [00:05<00:00, 84711.50it/s] \n",
      "100%|██████████| 453777/453777 [00:03<00:00, 134995.40it/s]\n",
      "100%|██████████| 453777/453777 [00:05<00:00, 88250.69it/s] \n",
      "100%|██████████| 453777/453777 [00:03<00:00, 134326.00it/s]\n",
      "100%|██████████| 453777/453777 [00:03<00:00, 132927.16it/s]\n",
      "100%|██████████| 453777/453777 [00:06<00:00, 71335.80it/s]\n",
      "100%|██████████| 453777/453777 [00:03<00:00, 136828.41it/s]\n",
      "100%|██████████| 453777/453777 [00:03<00:00, 136928.12it/s]\n",
      "100%|██████████| 453777/453777 [00:03<00:00, 135859.35it/s]\n"
     ]
    }
   ],
   "source": [
    "for feat in cfg.Category:\n",
    "    col = feat.name.lower()\n",
    "    new_col = f'{col}.upper()'\n",
    "    cat_cls = getattr(cfg, inflection.camelize(feat.name.lower()))\n",
    "    df[new_col] = df[col].progress_apply(lambda lst: [getattr(cat_cls, x.replace('-', '_').upper()).value.g_idx for x in lst])\n"
   ]
  },
  {
   "cell_type": "code",
   "execution_count": 43,
   "metadata": {},
   "outputs": [],
   "source": [
    "col_names = [f'{feat.name.lower()}_idx' for feat in cfg.Category]"
   ]
  },
  {
   "cell_type": "code",
   "execution_count": 46,
   "metadata": {},
   "outputs": [],
   "source": [
    "smaller = df[['segment', 'lang', 'merged_ipa'] + col_names]"
   ]
  },
  {
   "cell_type": "code",
   "execution_count": 47,
   "metadata": {},
   "outputs": [],
   "source": [
    "smaller.to_csv('/scratch/j_luo/data/phones/phones_merged_idx.tsv', sep='\\t', index=False)"
   ]
  },
  {
   "cell_type": "code",
   "execution_count": 53,
   "metadata": {},
   "outputs": [],
   "source": [
    "# Languages to keep.\n",
    "from collections import Counter\n",
    "cnt = Counter(smaller['lang'])"
   ]
  },
  {
   "cell_type": "code",
   "execution_count": 59,
   "metadata": {},
   "outputs": [],
   "source": [
    "langs = set([lang for lang, count in sorted(cnt.items(), key=lambda x: x[1], reverse=True) if count >= 1000])"
   ]
  },
  {
   "cell_type": "code",
   "execution_count": 60,
   "metadata": {},
   "outputs": [
    {
     "name": "stderr",
     "output_type": "stream",
     "text": [
      "100%|██████████| 453777/453777 [00:00<00:00, 1025361.83it/s]\n"
     ]
    }
   ],
   "source": [
    "in_langs = smaller['lang'].progress_apply(lambda x: x in langs)"
   ]
  },
  {
   "cell_type": "code",
   "execution_count": 62,
   "metadata": {},
   "outputs": [],
   "source": [
    "filtered = smaller[in_langs]"
   ]
  },
  {
   "cell_type": "code",
   "execution_count": 68,
   "metadata": {},
   "outputs": [],
   "source": [
    "import torch\n",
    "import numpy as np"
   ]
  },
  {
   "cell_type": "code",
   "execution_count": 75,
   "metadata": {},
   "outputs": [
    {
     "name": "stderr",
     "output_type": "stream",
     "text": [
      "100%|██████████| 46526/46526 [00:13<00:00, 3429.87it/s]\n",
      "100%|██████████| 7392/7392 [00:02<00:00, 3601.11it/s]\n",
      "100%|██████████| 7348/7348 [00:02<00:00, 3582.25it/s]\n",
      "100%|██████████| 1233/1233 [00:00<00:00, 3556.49it/s]\n",
      "100%|██████████| 1074/1074 [00:00<00:00, 3591.29it/s]\n",
      "100%|██████████| 13202/13202 [00:03<00:00, 3459.98it/s]\n",
      "100%|██████████| 6292/6292 [00:01<00:00, 3665.52it/s]\n",
      "100%|██████████| 5511/5511 [00:01<00:00, 3528.32it/s]\n",
      "100%|██████████| 2777/2777 [00:00<00:00, 3590.56it/s]\n",
      "100%|██████████| 5713/5713 [00:01<00:00, 3647.14it/s]\n",
      "100%|██████████| 4106/4106 [00:01<00:00, 3614.22it/s]\n",
      "100%|██████████| 1161/1161 [00:00<00:00, 3701.49it/s]\n",
      "100%|██████████| 4131/4131 [00:01<00:00, 3634.75it/s]\n",
      "100%|██████████| 7604/7604 [00:02<00:00, 3663.95it/s]\n",
      "100%|██████████| 2345/2345 [00:00<00:00, 3565.27it/s]\n",
      "100%|██████████| 3875/3875 [00:01<00:00, 3572.08it/s]\n",
      "100%|██████████| 1807/1807 [00:00<00:00, 3718.35it/s]\n",
      "100%|██████████| 1305/1305 [00:00<00:00, 3706.10it/s]\n",
      "100%|██████████| 1928/1928 [00:00<00:00, 3645.11it/s]\n",
      "100%|██████████| 3426/3426 [00:00<00:00, 3632.26it/s]\n",
      "100%|██████████| 1100/1100 [00:00<00:00, 3563.50it/s]\n",
      "100%|██████████| 1046/1046 [00:00<00:00, 3545.01it/s]\n",
      "100%|██████████| 3078/3078 [00:00<00:00, 3695.21it/s]\n",
      "100%|██████████| 16854/16854 [00:04<00:00, 3610.87it/s]\n",
      "100%|██████████| 2219/2219 [00:00<00:00, 3631.90it/s]\n",
      "100%|██████████| 1233/1233 [00:00<00:00, 3571.35it/s]\n",
      "100%|██████████| 33980/33980 [00:09<00:00, 3569.02it/s]\n",
      "100%|██████████| 2842/2842 [00:00<00:00, 3558.78it/s]\n",
      "100%|██████████| 1282/1282 [00:00<00:00, 3681.82it/s]\n",
      "100%|██████████| 1928/1928 [00:00<00:00, 3718.87it/s]\n",
      "100%|██████████| 1101/1101 [00:00<00:00, 3547.25it/s]\n",
      "100%|██████████| 10067/10067 [00:02<00:00, 3604.88it/s]\n",
      "100%|██████████| 29819/29819 [00:08<00:00, 3636.14it/s]\n",
      "100%|██████████| 2757/2757 [00:00<00:00, 3582.14it/s]\n",
      "100%|██████████| 15483/15483 [00:04<00:00, 3539.07it/s]\n",
      "100%|██████████| 2679/2679 [00:00<00:00, 3590.94it/s]\n",
      "100%|██████████| 5300/5300 [00:01<00:00, 3496.00it/s]\n",
      "100%|██████████| 1101/1101 [00:00<00:00, 3608.48it/s]\n",
      "100%|██████████| 4504/4504 [00:01<00:00, 3577.20it/s]\n",
      "100%|██████████| 3980/3980 [00:01<00:00, 3510.07it/s]\n",
      "100%|██████████| 5364/5364 [00:01<00:00, 3469.05it/s]\n",
      "100%|██████████| 6272/6272 [00:01<00:00, 3740.24it/s]\n",
      "100%|██████████| 3694/3694 [00:00<00:00, 3736.29it/s]\n",
      "100%|██████████| 2090/2090 [00:00<00:00, 3759.85it/s]\n",
      "100%|██████████| 1617/1617 [00:00<00:00, 3793.75it/s]\n",
      "100%|██████████| 27596/27596 [00:07<00:00, 3603.07it/s]\n",
      "100%|██████████| 67756/67756 [00:19<00:00, 3541.17it/s]\n",
      "100%|██████████| 7835/7835 [00:02<00:00, 3323.50it/s]\n",
      "100%|██████████| 3716/3716 [00:01<00:00, 3563.02it/s]\n",
      "100%|██████████| 1114/1114 [00:00<00:00, 3553.55it/s]\n",
      "100%|██████████| 10125/10125 [00:02<00:00, 3549.59it/s]\n",
      "100%|██████████| 7598/7598 [00:02<00:00, 3570.31it/s]\n",
      "100%|██████████| 1760/1760 [00:00<00:00, 3575.74it/s]\n"
     ]
    }
   ],
   "source": [
    "for lang in langs:\n",
    "    out_path = f'/scratch/j_luo/data/phones/phones_{lang}_idx.pth'\n",
    "    tmp_df = filtered[filtered['lang'] == lang]\n",
    "    segments = tmp_df['segment'].values\n",
    "    matrices = list()\n",
    "    for r, s in tqdm(tmp_df.iterrows(), total=len(tmp_df)):\n",
    "        arr = np.stack([s[col] for col in col_names], axis=1)\n",
    "        tensor = torch.from_numpy(arr)\n",
    "        matrices.append(tensor)\n",
    "    out = {\n",
    "        'segments': segments,\n",
    "        'matrices': matrices\n",
    "    }\n",
    "    torch.save(out, out_path)"
   ]
  },
  {
   "cell_type": "code",
   "execution_count": 74,
   "metadata": {},
   "outputs": [
    {
     "data": {
      "text/plain": [
       "torch.Size([6, 14])"
      ]
     },
     "execution_count": 74,
     "metadata": {},
     "output_type": "execute_result"
    }
   ],
   "source": [
    "matrices[0].shape"
   ]
  },
  {
   "cell_type": "code",
   "execution_count": 80,
   "metadata": {},
   "outputs": [
    {
     "data": {
      "text/plain": [
       "'PTYPE'"
      ]
     },
     "execution_count": 80,
     "metadata": {},
     "output_type": "execute_result"
    }
   ],
   "source": [
    "next(iter(cfg.Category)).name"
   ]
  },
  {
   "cell_type": "code",
   "execution_count": null,
   "metadata": {},
   "outputs": [],
   "source": []
  }
 ],
 "metadata": {
  "kernelspec": {
   "display_name": "Python 3",
   "language": "python",
   "name": "python3"
  },
  "language_info": {
   "codemirror_mode": {
    "name": "ipython",
    "version": 3
   },
   "file_extension": ".py",
   "mimetype": "text/x-python",
   "name": "python",
   "nbconvert_exporter": "python",
   "pygments_lexer": "ipython3",
   "version": "3.7.4"
  }
 },
 "nbformat": 4,
 "nbformat_minor": 2
}
