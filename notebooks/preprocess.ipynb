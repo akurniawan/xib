{
 "cells": [
  {
   "cell_type": "code",
   "execution_count": 81,
   "metadata": {},
   "outputs": [],
   "source": [
    "import xib.cfg as cfg"
   ]
  },
  {
   "cell_type": "code",
   "execution_count": 82,
   "metadata": {},
   "outputs": [],
   "source": [
    "import pdb"
   ]
  },
  {
   "cell_type": "code",
   "execution_count": 83,
   "metadata": {},
   "outputs": [
    {
     "data": {
      "text/plain": [
       "<Ptype.CONSONANT: Index(g_idx=0, c_idx=0, f_idx=0)>"
      ]
     },
     "execution_count": 83,
     "metadata": {},
     "output_type": "execute_result"
    }
   ],
   "source": [
    "cfg.Index.get_feature(0)"
   ]
  },
  {
   "cell_type": "code",
   "execution_count": 4,
   "metadata": {},
   "outputs": [],
   "source": [
    "from pathlib import Path"
   ]
  },
  {
   "cell_type": "code",
   "execution_count": 5,
   "metadata": {},
   "outputs": [],
   "source": [
    "path = Path('/scratch/j_luo/data/phones/phones_merged.tsv')"
   ]
  },
  {
   "cell_type": "code",
   "execution_count": 6,
   "metadata": {},
   "outputs": [],
   "source": [
    "import pandas as pd"
   ]
  },
  {
   "cell_type": "code",
   "execution_count": 8,
   "metadata": {},
   "outputs": [],
   "source": [
    "import ast"
   ]
  },
  {
   "cell_type": "code",
   "execution_count": 9,
   "metadata": {},
   "outputs": [],
   "source": [
    "import inflection"
   ]
  },
  {
   "cell_type": "code",
   "execution_count": 13,
   "metadata": {},
   "outputs": [],
   "source": [
    "converters = {cat.name.lower(): ast.literal_eval  for cat in cfg.Category}"
   ]
  },
  {
   "cell_type": "code",
   "execution_count": 14,
   "metadata": {},
   "outputs": [],
   "source": [
    "df = pd.read_csv(path, sep='\\t', converters=converters)"
   ]
  },
  {
   "cell_type": "code",
   "execution_count": 87,
   "metadata": {},
   "outputs": [
    {
     "data": {
      "text/plain": [
       "\"['n', 'ɔː', 'm', 'e']\""
      ]
     },
     "execution_count": 87,
     "metadata": {},
     "output_type": "execute_result"
    }
   ],
   "source": []
  },
  {
   "cell_type": "code",
   "execution_count": 88,
   "metadata": {},
   "outputs": [
    {
     "name": "stderr",
     "output_type": "stream",
     "text": [
      "100%|██████████| 453777/453777 [00:07<00:00, 62075.05it/s]\n"
     ]
    }
   ],
   "source": [
    "df['ipa_segment'] = df['merged_ipa'].progress_apply(lambda lst: '-'.join(ast.literal_eval(lst)))"
   ]
  },
  {
   "cell_type": "code",
   "execution_count": 89,
   "metadata": {},
   "outputs": [
    {
     "data": {
      "text/html": [
       "<div>\n",
       "<style scoped>\n",
       "    .dataframe tbody tr th:only-of-type {\n",
       "        vertical-align: middle;\n",
       "    }\n",
       "\n",
       "    .dataframe tbody tr th {\n",
       "        vertical-align: top;\n",
       "    }\n",
       "\n",
       "    .dataframe thead th {\n",
       "        text-align: right;\n",
       "    }\n",
       "</style>\n",
       "<table border=\"1\" class=\"dataframe\">\n",
       "  <thead>\n",
       "    <tr style=\"text-align: right;\">\n",
       "      <th></th>\n",
       "      <th>segment</th>\n",
       "      <th>lang</th>\n",
       "      <th>ipa</th>\n",
       "      <th>merged_ipa</th>\n",
       "      <th>ptype</th>\n",
       "      <th>c_voicing</th>\n",
       "      <th>c_place</th>\n",
       "      <th>c_manner</th>\n",
       "      <th>v_height</th>\n",
       "      <th>v_backness</th>\n",
       "      <th>...</th>\n",
       "      <th>v_backness_idx</th>\n",
       "      <th>v_roundness_idx</th>\n",
       "      <th>diacritics_idx</th>\n",
       "      <th>s_stress_idx</th>\n",
       "      <th>s_length_idx</th>\n",
       "      <th>s_break_idx</th>\n",
       "      <th>t_level_idx</th>\n",
       "      <th>t_contour_idx</th>\n",
       "      <th>t_global_idx</th>\n",
       "      <th>ipa_segment</th>\n",
       "    </tr>\n",
       "  </thead>\n",
       "  <tbody>\n",
       "    <tr>\n",
       "      <th>0</th>\n",
       "      <td>nɔːme</td>\n",
       "      <td>zza</td>\n",
       "      <td>['n', 'ɔ', 'ː', 'm', 'e']</td>\n",
       "      <td>['n', 'ɔː', 'm', 'e']</td>\n",
       "      <td>[consonant, vowel, consonant, vowel]</td>\n",
       "      <td>[voiced, none, voiced, none]</td>\n",
       "      <td>[alveolar, none, bilabial, none]</td>\n",
       "      <td>[nasal, none, nasal, none]</td>\n",
       "      <td>[none, open-mid, none, close-mid]</td>\n",
       "      <td>[none, back, none, front]</td>\n",
       "      <td>...</td>\n",
       "      <td>[51, 52, 51, 54]</td>\n",
       "      <td>[57, 58, 57, 59]</td>\n",
       "      <td>[60, 60, 60, 60]</td>\n",
       "      <td>[87, 87, 87, 87]</td>\n",
       "      <td>[89, 92, 89, 89]</td>\n",
       "      <td>[93, 93, 93, 93]</td>\n",
       "      <td>[96, 96, 96, 96]</td>\n",
       "      <td>[102, 102, 102, 102]</td>\n",
       "      <td>[110, 110, 110, 110]</td>\n",
       "      <td>n-ɔː-m-e</td>\n",
       "    </tr>\n",
       "    <tr>\n",
       "      <th>1</th>\n",
       "      <td>ɾaŋɡ</td>\n",
       "      <td>zza</td>\n",
       "      <td>['ɾ', 'a', 'ŋ', 'ɡ']</td>\n",
       "      <td>['ɾ', 'a', 'ŋ', 'ɡ']</td>\n",
       "      <td>[consonant, vowel, consonant, consonant]</td>\n",
       "      <td>[voiced, none, voiced, voiced]</td>\n",
       "      <td>[alveolar, none, velar, velar]</td>\n",
       "      <td>[flap, none, nasal, plosive]</td>\n",
       "      <td>[none, open, none, none]</td>\n",
       "      <td>[none, front, none, none]</td>\n",
       "      <td>...</td>\n",
       "      <td>[51, 54, 51, 51]</td>\n",
       "      <td>[57, 59, 57, 57]</td>\n",
       "      <td>[60, 60, 60, 60]</td>\n",
       "      <td>[87, 87, 87, 87]</td>\n",
       "      <td>[89, 89, 89, 89]</td>\n",
       "      <td>[93, 93, 93, 93]</td>\n",
       "      <td>[96, 96, 96, 96]</td>\n",
       "      <td>[102, 102, 102, 102]</td>\n",
       "      <td>[110, 110, 110, 110]</td>\n",
       "      <td>ɾ-a-ŋ-ɡ</td>\n",
       "    </tr>\n",
       "    <tr>\n",
       "      <th>2</th>\n",
       "      <td>pɔː</td>\n",
       "      <td>zza</td>\n",
       "      <td>['p', 'ɔ', 'ː']</td>\n",
       "      <td>['p', 'ɔː']</td>\n",
       "      <td>[consonant, vowel]</td>\n",
       "      <td>[voiceless, none]</td>\n",
       "      <td>[bilabial, none]</td>\n",
       "      <td>[plosive, none]</td>\n",
       "      <td>[none, open-mid]</td>\n",
       "      <td>[none, back]</td>\n",
       "      <td>...</td>\n",
       "      <td>[51, 52]</td>\n",
       "      <td>[57, 58]</td>\n",
       "      <td>[60, 60]</td>\n",
       "      <td>[87, 87]</td>\n",
       "      <td>[89, 92]</td>\n",
       "      <td>[93, 93]</td>\n",
       "      <td>[96, 96]</td>\n",
       "      <td>[102, 102]</td>\n",
       "      <td>[110, 110]</td>\n",
       "      <td>p-ɔː</td>\n",
       "    </tr>\n",
       "    <tr>\n",
       "      <th>3</th>\n",
       "      <td>bari</td>\n",
       "      <td>zza</td>\n",
       "      <td>['b', 'a', 'r', 'i']</td>\n",
       "      <td>['b', 'a', 'r', 'i']</td>\n",
       "      <td>[consonant, vowel, consonant, vowel]</td>\n",
       "      <td>[voiced, none, voiced, none]</td>\n",
       "      <td>[bilabial, none, alveolar, none]</td>\n",
       "      <td>[plosive, none, trill, none]</td>\n",
       "      <td>[none, open, none, close]</td>\n",
       "      <td>[none, front, none, front]</td>\n",
       "      <td>...</td>\n",
       "      <td>[51, 54, 51, 54]</td>\n",
       "      <td>[57, 59, 57, 59]</td>\n",
       "      <td>[60, 60, 60, 60]</td>\n",
       "      <td>[87, 87, 87, 87]</td>\n",
       "      <td>[89, 89, 89, 89]</td>\n",
       "      <td>[93, 93, 93, 93]</td>\n",
       "      <td>[96, 96, 96, 96]</td>\n",
       "      <td>[102, 102, 102, 102]</td>\n",
       "      <td>[110, 110, 110, 110]</td>\n",
       "      <td>b-a-r-i</td>\n",
       "    </tr>\n",
       "    <tr>\n",
       "      <th>4</th>\n",
       "      <td>herb</td>\n",
       "      <td>zza</td>\n",
       "      <td>['h', 'e', 'r', 'b']</td>\n",
       "      <td>['h', 'e', 'r', 'b']</td>\n",
       "      <td>[consonant, vowel, consonant, consonant]</td>\n",
       "      <td>[voiceless, none, voiced, voiced]</td>\n",
       "      <td>[glottal, none, alveolar, bilabial]</td>\n",
       "      <td>[non-sibilant-fricative, none, trill, plosive]</td>\n",
       "      <td>[none, close-mid, none, none]</td>\n",
       "      <td>[none, front, none, none]</td>\n",
       "      <td>...</td>\n",
       "      <td>[51, 54, 51, 51]</td>\n",
       "      <td>[57, 59, 57, 57]</td>\n",
       "      <td>[60, 60, 60, 60]</td>\n",
       "      <td>[87, 87, 87, 87]</td>\n",
       "      <td>[89, 89, 89, 89]</td>\n",
       "      <td>[93, 93, 93, 93]</td>\n",
       "      <td>[96, 96, 96, 96]</td>\n",
       "      <td>[102, 102, 102, 102]</td>\n",
       "      <td>[110, 110, 110, 110]</td>\n",
       "      <td>h-e-r-b</td>\n",
       "    </tr>\n",
       "  </tbody>\n",
       "</table>\n",
       "<p>5 rows × 33 columns</p>\n",
       "</div>"
      ],
      "text/plain": [
       "  segment lang                        ipa             merged_ipa  \\\n",
       "0   nɔːme  zza  ['n', 'ɔ', 'ː', 'm', 'e']  ['n', 'ɔː', 'm', 'e']   \n",
       "1    ɾaŋɡ  zza       ['ɾ', 'a', 'ŋ', 'ɡ']   ['ɾ', 'a', 'ŋ', 'ɡ']   \n",
       "2     pɔː  zza            ['p', 'ɔ', 'ː']            ['p', 'ɔː']   \n",
       "3    bari  zza       ['b', 'a', 'r', 'i']   ['b', 'a', 'r', 'i']   \n",
       "4    herb  zza       ['h', 'e', 'r', 'b']   ['h', 'e', 'r', 'b']   \n",
       "\n",
       "                                      ptype  \\\n",
       "0      [consonant, vowel, consonant, vowel]   \n",
       "1  [consonant, vowel, consonant, consonant]   \n",
       "2                        [consonant, vowel]   \n",
       "3      [consonant, vowel, consonant, vowel]   \n",
       "4  [consonant, vowel, consonant, consonant]   \n",
       "\n",
       "                           c_voicing                              c_place  \\\n",
       "0       [voiced, none, voiced, none]     [alveolar, none, bilabial, none]   \n",
       "1     [voiced, none, voiced, voiced]       [alveolar, none, velar, velar]   \n",
       "2                  [voiceless, none]                     [bilabial, none]   \n",
       "3       [voiced, none, voiced, none]     [bilabial, none, alveolar, none]   \n",
       "4  [voiceless, none, voiced, voiced]  [glottal, none, alveolar, bilabial]   \n",
       "\n",
       "                                         c_manner  \\\n",
       "0                      [nasal, none, nasal, none]   \n",
       "1                    [flap, none, nasal, plosive]   \n",
       "2                                 [plosive, none]   \n",
       "3                    [plosive, none, trill, none]   \n",
       "4  [non-sibilant-fricative, none, trill, plosive]   \n",
       "\n",
       "                            v_height                  v_backness  ...  \\\n",
       "0  [none, open-mid, none, close-mid]   [none, back, none, front]  ...   \n",
       "1           [none, open, none, none]   [none, front, none, none]  ...   \n",
       "2                   [none, open-mid]                [none, back]  ...   \n",
       "3          [none, open, none, close]  [none, front, none, front]  ...   \n",
       "4      [none, close-mid, none, none]   [none, front, none, none]  ...   \n",
       "\n",
       "     v_backness_idx   v_roundness_idx    diacritics_idx      s_stress_idx  \\\n",
       "0  [51, 52, 51, 54]  [57, 58, 57, 59]  [60, 60, 60, 60]  [87, 87, 87, 87]   \n",
       "1  [51, 54, 51, 51]  [57, 59, 57, 57]  [60, 60, 60, 60]  [87, 87, 87, 87]   \n",
       "2          [51, 52]          [57, 58]          [60, 60]          [87, 87]   \n",
       "3  [51, 54, 51, 54]  [57, 59, 57, 59]  [60, 60, 60, 60]  [87, 87, 87, 87]   \n",
       "4  [51, 54, 51, 51]  [57, 59, 57, 57]  [60, 60, 60, 60]  [87, 87, 87, 87]   \n",
       "\n",
       "       s_length_idx       s_break_idx       t_level_idx         t_contour_idx  \\\n",
       "0  [89, 92, 89, 89]  [93, 93, 93, 93]  [96, 96, 96, 96]  [102, 102, 102, 102]   \n",
       "1  [89, 89, 89, 89]  [93, 93, 93, 93]  [96, 96, 96, 96]  [102, 102, 102, 102]   \n",
       "2          [89, 92]          [93, 93]          [96, 96]            [102, 102]   \n",
       "3  [89, 89, 89, 89]  [93, 93, 93, 93]  [96, 96, 96, 96]  [102, 102, 102, 102]   \n",
       "4  [89, 89, 89, 89]  [93, 93, 93, 93]  [96, 96, 96, 96]  [102, 102, 102, 102]   \n",
       "\n",
       "           t_global_idx ipa_segment  \n",
       "0  [110, 110, 110, 110]    n-ɔː-m-e  \n",
       "1  [110, 110, 110, 110]     ɾ-a-ŋ-ɡ  \n",
       "2            [110, 110]        p-ɔː  \n",
       "3  [110, 110, 110, 110]     b-a-r-i  \n",
       "4  [110, 110, 110, 110]     h-e-r-b  \n",
       "\n",
       "[5 rows x 33 columns]"
      ]
     },
     "execution_count": 89,
     "metadata": {},
     "output_type": "execute_result"
    }
   ],
   "source": [
    "df.head()"
   ]
  },
  {
   "cell_type": "code",
   "execution_count": 21,
   "metadata": {},
   "outputs": [],
   "source": [
    "from tqdm import tqdm\n",
    "tqdm.pandas()"
   ]
  },
  {
   "cell_type": "code",
   "execution_count": 41,
   "metadata": {},
   "outputs": [
    {
     "name": "stderr",
     "output_type": "stream",
     "text": [
      "100%|██████████| 453777/453777 [00:03<00:00, 138705.70it/s]\n",
      "100%|██████████| 453777/453777 [00:05<00:00, 88404.97it/s] \n",
      "100%|██████████| 453777/453777 [00:03<00:00, 138508.28it/s]\n",
      "100%|██████████| 453777/453777 [00:03<00:00, 135472.86it/s]\n",
      "100%|██████████| 453777/453777 [00:03<00:00, 138645.25it/s]\n",
      "100%|██████████| 453777/453777 [00:05<00:00, 84711.50it/s] \n",
      "100%|██████████| 453777/453777 [00:03<00:00, 134995.40it/s]\n",
      "100%|██████████| 453777/453777 [00:05<00:00, 88250.69it/s] \n",
      "100%|██████████| 453777/453777 [00:03<00:00, 134326.00it/s]\n",
      "100%|██████████| 453777/453777 [00:03<00:00, 132927.16it/s]\n",
      "100%|██████████| 453777/453777 [00:06<00:00, 71335.80it/s]\n",
      "100%|██████████| 453777/453777 [00:03<00:00, 136828.41it/s]\n",
      "100%|██████████| 453777/453777 [00:03<00:00, 136928.12it/s]\n",
      "100%|██████████| 453777/453777 [00:03<00:00, 135859.35it/s]\n"
     ]
    }
   ],
   "source": [
    "for feat in cfg.Category:\n",
    "    col = feat.name.lower()\n",
    "    new_col = f'{col}.upper()'\n",
    "    cat_cls = getattr(cfg, inflection.camelize(feat.name.lower()))\n",
    "    df[new_col] = df[col].progress_apply(lambda lst: [getattr(cat_cls, x.replace('-', '_').upper()).value.g_idx for x in lst])\n"
   ]
  },
  {
   "cell_type": "code",
   "execution_count": 43,
   "metadata": {},
   "outputs": [],
   "source": [
    "col_names = [f'{feat.name.lower()}_idx' for feat in cfg.Category]"
   ]
  },
  {
   "cell_type": "code",
   "execution_count": 90,
   "metadata": {},
   "outputs": [],
   "source": [
    "smaller = df[['ipa_segment', 'lang', 'merged_ipa'] + col_names]"
   ]
  },
  {
   "cell_type": "code",
   "execution_count": 92,
   "metadata": {},
   "outputs": [],
   "source": [
    "smaller.to_csv('/scratch/j_luo/data/phones/phones_merged_idx.tsv', sep='\\t', index=False)"
   ]
  },
  {
   "cell_type": "code",
   "execution_count": 53,
   "metadata": {},
   "outputs": [],
   "source": [
    "# Languages to keep.\n",
    "from collections import Counter\n",
    "cnt = Counter(smaller['lang'])"
   ]
  },
  {
   "cell_type": "code",
   "execution_count": 59,
   "metadata": {},
   "outputs": [],
   "source": [
    "langs = set([lang for lang, count in sorted(cnt.items(), key=lambda x: x[1], reverse=True) if count >= 1000])"
   ]
  },
  {
   "cell_type": "code",
   "execution_count": 60,
   "metadata": {},
   "outputs": [
    {
     "name": "stderr",
     "output_type": "stream",
     "text": [
      "100%|██████████| 453777/453777 [00:00<00:00, 1025361.83it/s]\n"
     ]
    }
   ],
   "source": [
    "in_langs = smaller['lang'].progress_apply(lambda x: x in langs)"
   ]
  },
  {
   "cell_type": "code",
   "execution_count": 93,
   "metadata": {},
   "outputs": [],
   "source": [
    "filtered = smaller[in_langs]"
   ]
  },
  {
   "cell_type": "code",
   "execution_count": 68,
   "metadata": {},
   "outputs": [],
   "source": [
    "import torch\n",
    "import numpy as np"
   ]
  },
  {
   "cell_type": "code",
   "execution_count": 94,
   "metadata": {},
   "outputs": [
    {
     "name": "stderr",
     "output_type": "stream",
     "text": [
      "100%|██████████| 46526/46526 [00:12<00:00, 3579.95it/s]\n",
      "100%|██████████| 7392/7392 [00:02<00:00, 3678.12it/s]\n",
      "100%|██████████| 7348/7348 [00:01<00:00, 3712.52it/s]\n",
      "100%|██████████| 1233/1233 [00:00<00:00, 3536.36it/s]\n",
      "100%|██████████| 1074/1074 [00:00<00:00, 3455.48it/s]\n",
      "100%|██████████| 13202/13202 [00:03<00:00, 3487.38it/s]\n",
      "100%|██████████| 6292/6292 [00:01<00:00, 3594.86it/s]\n",
      "100%|██████████| 5511/5511 [00:01<00:00, 3531.26it/s]\n",
      "100%|██████████| 2777/2777 [00:00<00:00, 3553.17it/s]\n",
      "100%|██████████| 5713/5713 [00:01<00:00, 3600.91it/s]\n",
      "100%|██████████| 4106/4106 [00:01<00:00, 3597.38it/s]\n",
      "100%|██████████| 1161/1161 [00:00<00:00, 3548.69it/s]\n",
      "100%|██████████| 4131/4131 [00:01<00:00, 3587.99it/s]\n",
      "100%|██████████| 7604/7604 [00:02<00:00, 3527.88it/s]\n",
      "100%|██████████| 2345/2345 [00:00<00:00, 3462.24it/s]\n",
      "100%|██████████| 3875/3875 [00:01<00:00, 3518.00it/s]\n",
      "100%|██████████| 1807/1807 [00:00<00:00, 3522.65it/s]\n",
      "100%|██████████| 1305/1305 [00:00<00:00, 3532.92it/s]\n",
      "100%|██████████| 1928/1928 [00:00<00:00, 3442.47it/s]\n",
      "100%|██████████| 3426/3426 [00:00<00:00, 3587.69it/s]\n",
      "100%|██████████| 1100/1100 [00:00<00:00, 3386.29it/s]\n",
      "100%|██████████| 1046/1046 [00:00<00:00, 3396.26it/s]\n",
      "100%|██████████| 3078/3078 [00:00<00:00, 3470.99it/s]\n",
      "100%|██████████| 16854/16854 [00:04<00:00, 3577.70it/s]\n",
      "100%|██████████| 2219/2219 [00:00<00:00, 3565.25it/s]\n",
      "100%|██████████| 1233/1233 [00:00<00:00, 3579.93it/s]\n",
      "100%|██████████| 33980/33980 [00:09<00:00, 3576.50it/s]\n",
      "100%|██████████| 2842/2842 [00:00<00:00, 3524.15it/s]\n",
      "100%|██████████| 1282/1282 [00:00<00:00, 3597.49it/s]\n",
      "100%|██████████| 1928/1928 [00:00<00:00, 3585.47it/s]\n",
      "100%|██████████| 1101/1101 [00:00<00:00, 3510.69it/s]\n",
      "100%|██████████| 10067/10067 [00:02<00:00, 3539.97it/s]\n",
      "100%|██████████| 29819/29819 [00:08<00:00, 3563.01it/s]\n",
      "100%|██████████| 2757/2757 [00:00<00:00, 3533.29it/s]\n",
      "100%|██████████| 15483/15483 [00:04<00:00, 3575.58it/s]\n",
      "100%|██████████| 2679/2679 [00:00<00:00, 3606.92it/s]\n",
      "100%|██████████| 5300/5300 [00:01<00:00, 3539.40it/s]\n",
      "100%|██████████| 1101/1101 [00:00<00:00, 3703.50it/s]\n",
      "100%|██████████| 4504/4504 [00:01<00:00, 3616.27it/s]\n",
      "100%|██████████| 3980/3980 [00:01<00:00, 3610.65it/s]\n",
      "100%|██████████| 5364/5364 [00:01<00:00, 3626.37it/s]\n",
      "100%|██████████| 6272/6272 [00:01<00:00, 3601.19it/s]\n",
      "100%|██████████| 3694/3694 [00:01<00:00, 3591.09it/s]\n",
      "100%|██████████| 2090/2090 [00:00<00:00, 3626.98it/s]\n",
      "100%|██████████| 1617/1617 [00:00<00:00, 3645.63it/s]\n",
      "100%|██████████| 27596/27596 [00:07<00:00, 3750.80it/s]\n",
      "100%|██████████| 67756/67756 [00:18<00:00, 3730.64it/s]\n",
      "100%|██████████| 7835/7835 [00:02<00:00, 3745.14it/s]\n",
      "100%|██████████| 3716/3716 [00:00<00:00, 3740.61it/s]\n",
      "100%|██████████| 1114/1114 [00:00<00:00, 3636.12it/s]\n",
      "100%|██████████| 10125/10125 [00:02<00:00, 3737.78it/s]\n",
      "100%|██████████| 7598/7598 [00:02<00:00, 3727.47it/s]\n",
      "100%|██████████| 1760/1760 [00:00<00:00, 3689.77it/s]\n"
     ]
    }
   ],
   "source": [
    "for lang in langs:\n",
    "    out_path = f'/scratch/j_luo/data/phones/phones_{lang}_idx.pth'\n",
    "    tmp_df = filtered[filtered['lang'] == lang]\n",
    "    segments = tmp_df['ipa_segment'].values\n",
    "    matrices = list()\n",
    "    for r, s in tqdm(tmp_df.iterrows(), total=len(tmp_df)):\n",
    "        arr = np.stack([s[col] for col in col_names], axis=1)\n",
    "        tensor = torch.from_numpy(arr)\n",
    "        matrices.append(tensor)\n",
    "    out = {\n",
    "        'segments': segments,\n",
    "        'matrices': matrices\n",
    "    }\n",
    "    torch.save(out, out_path)"
   ]
  },
  {
   "cell_type": "code",
   "execution_count": 95,
   "metadata": {},
   "outputs": [
    {
     "data": {
      "text/plain": [
       "53"
      ]
     },
     "execution_count": 95,
     "metadata": {},
     "output_type": "execute_result"
    }
   ],
   "source": [
    "len(langs)"
   ]
  },
  {
   "cell_type": "code",
   "execution_count": 74,
   "metadata": {},
   "outputs": [
    {
     "data": {
      "text/plain": [
       "torch.Size([6, 14])"
      ]
     },
     "execution_count": 74,
     "metadata": {},
     "output_type": "execute_result"
    }
   ],
   "source": [
    "matrices[0].shape"
   ]
  },
  {
   "cell_type": "code",
   "execution_count": 80,
   "metadata": {},
   "outputs": [
    {
     "data": {
      "text/plain": [
       "'PTYPE'"
      ]
     },
     "execution_count": 80,
     "metadata": {},
     "output_type": "execute_result"
    }
   ],
   "source": [
    "next(iter(cfg.Category)).name"
   ]
  },
  {
   "cell_type": "code",
   "execution_count": null,
   "metadata": {},
   "outputs": [],
   "source": []
  }
 ],
 "metadata": {
  "kernelspec": {
   "display_name": "Python 3",
   "language": "python",
   "name": "python3"
  },
  "language_info": {
   "codemirror_mode": {
    "name": "ipython",
    "version": 3
   },
   "file_extension": ".py",
   "mimetype": "text/x-python",
   "name": "python",
   "nbconvert_exporter": "python",
   "pygments_lexer": "ipython3",
   "version": "3.7.4"
  }
 },
 "nbformat": 4,
 "nbformat_minor": 2
}
